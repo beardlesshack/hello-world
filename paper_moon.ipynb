# Paper Folding Calculator with UI input (final folded size in METERS)

import matplotlib.pyplot as plt
import numpy as np
import ipywidgets as widgets
from IPython.display import display, clear_output

# Core calculation function (now in meters)
def calculate_original_size(final_size_m=0.01, total_folds=42):
    folds_per_dimension = total_folds // 2
    original_size_m = final_size_m * (2 ** folds_per_dimension)
    return original_size_m

# Display and plotting functions
def display_results(final_size_m=0.01, total_folds=42):
    original_size_m = calculate_original_size(final_size_m, total_folds)
    original_size_km = original_size_m / 1000

    print(f"📄 Final folded size: {final_size_m} m × {final_size_m} m")
    print(f"🔁 Total folds: {total_folds} (→ {total_folds // 2} folds per dimension)")
    print(f"📏 Original paper size needed:")
    print(f"   = {original_size_m:.2f} m × {original_size_m:.2f} m")
    print(f"   = {original_size_km:.2f} km × {original_size_km:.2f} km")

def plot_growth(final_size_m=0.01, total_folds=42):
    fold_counts = np.arange(total_folds + 1)
    sizes_m = final_size_m * (2 ** (fold_counts // 2))

    plt.figure(figsize=(10, 6))
    plt.plot(fold_counts, sizes_m, marker='o')
    plt.yscale('log')
    plt.xlabel("Total Folds")
    plt.ylabel("Original Paper Size Required (meters)")
    plt.title("Growth of Required Paper Size vs. Number of Folds")
    plt.grid(True, which='both', linestyle='--', alpha=0.5)
    plt.show()

# UI with ipywidgets
def interactive_ui():
    output_size_input = widgets.FloatText(
        value=0.01,
        description='Final size (m):',
        step=0.01
    )
    
    total_folds_input = widgets.IntSlider(
        value=42,
        min=1,
        max=60,
        step=1,
        description='Folds:',
        continuous_update=False
    )

    run_button = widgets.Button(description='Calculate')
    output = widgets.Output()

    def on_run_clicked(b):
        with output:
            clear_output()
            final_size_m = output_size_input.value
            total_folds = total_folds_input.value
            display_results(final_size_m, total_folds)
            plot_growth(final_size_m, total_folds)

    run_button.on_click(on_run_clicked)

    display(widgets.VBox([
        widgets.Label("📐 Enter the final folded square size (in meters) and number of folds:"),
        output_size_input,
        total_folds_input,
        run_button,
        output
    ]))

# Launch the UI
interactive_ui()
